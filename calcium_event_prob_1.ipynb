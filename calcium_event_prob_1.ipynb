{
 "cells": [
  {
   "cell_type": "markdown",
   "id": "65f4f1e6",
   "metadata": {},
   "source": [
    "# Notebook for calculating the calcium event probability - Part 1\n",
    "\n",
    "This use this jupyter notebook for the analysis of your in vitro imaging data (best suited for cell culture data). Before you run this notebook there are a few steps you need to do first:\n",
    "\n",
    "1. Load your raw imaging tiffs into imagej/fiji\n",
    "2. Draw the ROIs **IMPORTANT**: Last ROI must be a background ROI \n",
    "3. Calculate mean grey value with imagej/fiji \n",
    "4. Export your results as csv file\n",
    "\n"
   ]
  },
  {
   "cell_type": "code",
   "execution_count": null,
   "id": "b58c5125",
   "metadata": {},
   "outputs": [],
   "source": [
    "%matplotlib inline\n",
    "import pandas as pd\n",
    "from matplotlib import pyplot as plt\n",
    "import numpy as np\n",
    "from scipy import signal\n",
    "\n",
    "from os import listdir\n",
    "from os.path import isfile, join\n",
    "import pingouin as pg\n",
    "\n",
    "# Pre processing function:\n",
    "def pre_processing(df):\n",
    "    background=df[df.columns[-1]].tolist()  #select background column and make list\n",
    "    df=df.drop(df.columns[-1], axis=1) #delete last column (background)\n",
    "    df=df.drop(df.columns[0], axis=1) #delte first column (frame)\n",
    "    df_background_sub=df.sub(background, axis=0) #subtract background from every other column\n",
    "    \n",
    "    return df_background_sub\n",
    "\n",
    "def dff_calc(df_input,f_base_value=0,dff_median=False):\n",
    "    \n",
    "    for column_name in df_input:\n",
    "        column=df_input[column_name]\n",
    "        column=column.astype('float')\n",
    "        if dff_median:\n",
    "            median_value=column.median()\n",
    "            dff_series=column.apply((lambda x: (x - median_value)/median_value))\n",
    "            df_input[column_name]=dff_series\n",
    "        else:\n",
    "            dff_series=column.apply((lambda x: (x - column.iloc[f_base_value])/column.iloc[f_base_value])) \n",
    "            df_input[column_name]=dff_series\n",
    "        \n",
    "    return df_input\n",
    "\n",
    "\n",
    "#pre_processing_bool=True\n",
    "frames_to_seconds=True\n",
    "fps_rate=5 "
   ]
  },
  {
   "cell_type": "markdown",
   "id": "e5981796",
   "metadata": {},
   "source": [
    "## Defining some parameters for your analysis\n",
    "\n",
    "In the next cell define some parameter:\n",
    "\n",
    "* Do you want to perform preprocessing (i.e. background substraction) of your imagej/fiji data? \n",
    " * default: `pre_processing_bool=True` <br>\n",
    "<br>\n",
    "* Do you want to exclude specific ROIs?         \n",
    " * default: `exclude_rois=True` <br>\n",
    "<br>    \n",
    "* Do you want to convert frames to seconds? If so input framerate in fps.\n",
    " * default: `frames_to_seconds=True` \n",
    " * default: `fps_rate=1` <br>\n",
    "<br>\n",
    "\n",
    "**Next**: Input the path to your results csv file from imagej/fiji input the variable: path_to_data"
   ]
  },
  {
   "cell_type": "code",
   "execution_count": null,
   "id": "3f68bcd3",
   "metadata": {},
   "outputs": [],
   "source": [
    "pre_processing_bool=True\n",
    "frames_to_seconds=True\n",
    "fps_rate=5 \n",
    "\n",
    "path_to_data=r'C:\\Users\\Lutz\\OneDrive\\Desktop\\Data Science\\calcium event probability\\Calcium_Events\\Calcium_Events\\8OHDPAT\\20220118_8OH_Slice2_allCells'\n",
    "\n",
    "file_extension='.csv'\n",
    "\n",
    "if pre_processing_bool==True:\n",
    "    df=pre_processing(pd.read_csv(path_to_data + file_extension))\n",
    "else:\n",
    "    df=pd.read_csv(path_to_data + file_extension)\n",
    "\n",
    "if frames_to_seconds:\n",
    "    df.index=df.index/fps_rate\n",
    "    x_label='Time (s)'\n",
    "else:\n",
    "    x_label='Frames'\n"
   ]
  },
  {
   "cell_type": "markdown",
   "id": "63cacdad",
   "metadata": {},
   "source": [
    "## Calculation of $\\Delta$f/f\n",
    "\n",
    "Now you can calculate $\\Delta$f/f but first define the parameters for that: \n",
    "* If you want to calculate $\\Delta$f/f with the first frame as your f0, you do not need to change anything.\n",
    "* If you want to calculate $\\Delta$f/f with the median fluorescence as your f0, set the parameter `dff_median=True` <br> (i.e. `dff_frame=dff_calc(df_copy, dff_median=True)`)\n",
    "\n",
    "It also plots each of your ROIs in a subplot and also all ROIs combined\n",
    "    \n",
    "\n"
   ]
  },
  {
   "cell_type": "code",
   "execution_count": null,
   "id": "6605bdae",
   "metadata": {},
   "outputs": [],
   "source": [
    "df_copy=df.copy()\n",
    "dff_frame=dff_calc(df_copy, dff_median=True)     "
   ]
  },
  {
   "cell_type": "code",
   "execution_count": null,
   "id": "235208c5",
   "metadata": {},
   "outputs": [],
   "source": [
    "#plotting individual ROIs in individual subplots\n",
    "col_num=len(dff_frame.columns)\n",
    "number_of_subplots=list(range(0,len(dff_frame.columns)))\n",
    "axes=dff_frame.plot(subplots=True, layout=(12, 5), figsize=(24, 24), sharex=True,sharey=True, legend=None, title=number_of_subplots)\n",
    "\n",
    "for c in axes:\n",
    "   for ax in c:\n",
    "      ax.axhline(y=0, color='k', ls='dashed')\n",
    "\n",
    "plt.show()\n",
    "\n",
    "#plotting individual ROIs in ONE plot (overlayed)\n",
    "dff_frame.plot(legend=None)\n",
    "ax = plt.gca()\n",
    "ax.axhline(y=0, color='k', ls='dashed')\n",
    "plt.xlabel(x_label)\n",
    "plt.ylabel('\\u0394 F/F')\n",
    "ax.spines['right'].set_visible(False)\n",
    "ax.spines['top'].set_visible(False)\n",
    "plt.show()"
   ]
  },
  {
   "cell_type": "markdown",
   "id": "cec90118",
   "metadata": {},
   "source": [
    "## Excluding ROIs (optional)\n",
    "\n",
    "If you want exclude some of the ROIs from above set `exclude_rois=True` (default: `exclude_rois=False`) and put the numbers of the ROIs you want to exclude into the list and seperate every ROI by a \",\" (`list_of_excluded_rois`) below. **IMPORTANT**: Start counting from 0!\n",
    "\n",
    "It also saves the a new csv file into the current path with the addtion of *_cleaned*"
   ]
  },
  {
   "cell_type": "code",
   "execution_count": null,
   "id": "cb8c7c2a",
   "metadata": {},
   "outputs": [],
   "source": [
    "exclude_rois=False\n",
    "list_of_excluded_rois=[25] #for the demo\n",
    "\n",
    "if exclude_rois:\n",
    "    cleaned_df=dff_frame.copy()\n",
    "    exclude_columns=cleaned_df.iloc[:, list_of_excluded_rois].columns\n",
    "    cleaned_df=cleaned_df.drop(columns=exclude_columns)    \n",
    "    cleaned_df.to_csv((path_to_data + '_cleaned' + file_extension), index=False)  \n",
    "    \n",
    "    df_mean=cleaned_df.mean(axis=1)\n",
    "    df_std=cleaned_df.std(axis=1)\n",
    "    df_sem=cleaned_df.sem(axis=1)\n",
    "    \n",
    "else:\n",
    "    cleaned_df=dff_frame.copy()\n",
    "    cleaned_df.to_csv((path_to_data + '_cleaned' + file_extension), index=False)\n",
    "    \n",
    "    df_mean=dff_frame.mean(axis=1)\n",
    "    df_std=dff_frame.std(axis=1)\n",
    "    df_sem=dff_frame.sem(axis=1)"
   ]
  },
  {
   "cell_type": "markdown",
   "id": "eabc253b",
   "metadata": {},
   "source": [
    "Now plot the ROIs again to make sure you deleted the correct ROIs"
   ]
  },
  {
   "cell_type": "code",
   "execution_count": null,
   "id": "2e888f2e",
   "metadata": {},
   "outputs": [],
   "source": [
    "cleaned_df"
   ]
  },
  {
   "cell_type": "code",
   "execution_count": null,
   "id": "a5724104",
   "metadata": {},
   "outputs": [],
   "source": [
    "#plotting individual ROIs in individual subplots\n",
    "if exclude_rois:\n",
    "    \n",
    "    col_num=len(cleaned_df.columns)\n",
    "    number_of_subplots=list(range(0,len(cleaned_df.columns)))\n",
    "    axes=cleaned_df.plot(subplots=True, layout=(12, 5), figsize=(24, 24), sharex=True,sharey=True, legend=None, title=number_of_subplots)\n",
    "\n",
    "    for c in axes:\n",
    "       for ax in c:\n",
    "          ax.axhline(y=0, color='k', ls='dashed')\n",
    "\n",
    "    plt.show()\n",
    "\n",
    "    #plotting individual ROIs in ONE plot (overlayed)\n",
    "    cleaned_df.plot(legend=None)\n",
    "    ax = plt.gca()\n",
    "    ax.axhline(y=0, color='k', ls='dashed')\n",
    "    plt.xlabel(x_label)\n",
    "    plt.ylabel('\\u0394 F/F')\n",
    "    ax.spines['right'].set_visible(False)\n",
    "    ax.spines['top'].set_visible(False)\n",
    "    plt.show()"
   ]
  },
  {
   "cell_type": "markdown",
   "id": "0f13b7a6",
   "metadata": {},
   "source": [
    "## Plotting of the mean time courses\n",
    "\n",
    "Now you can start plotting the mean of all your ROIs. But first define if you want to save the images (default: `save_images=False`)"
   ]
  },
  {
   "cell_type": "code",
   "execution_count": null,
   "id": "c1138d11",
   "metadata": {},
   "outputs": [],
   "source": [
    "save_images=False\n",
    "\n",
    "#plotting mean + SD\n",
    "\n",
    "plt.plot(df_mean, color='black', linewidth=0.75)\n",
    "plt.fill_between(df_mean.index, df_mean-df_std, df_mean+df_std, alpha=0.5)\n",
    "\n",
    "ax = plt.gca()\n",
    "ax.axhline(y=0, color='k', ls='dashed')\n",
    "ax.spines['right'].set_visible(False)\n",
    "ax.spines['top'].set_visible(False)\n",
    "plt.xlabel(x_label)\n",
    "plt.ylabel('\\u0394 F/F')\n",
    "plt.title('Mean + SD')\n",
    "if save_images:\n",
    "    plt.savefig((path_to_data[:-4] + '_mean_SD' + '.svg'), format = 'svg', dpi=300) # uncommand this if you want to save it as vector graphic\n",
    "plt.show()\n"
   ]
  }
 ],
 "metadata": {
  "kernelspec": {
   "display_name": "Python 3 (ipykernel)",
   "language": "python",
   "name": "python3"
  },
  "language_info": {
   "codemirror_mode": {
    "name": "ipython",
    "version": 3
   },
   "file_extension": ".py",
   "mimetype": "text/x-python",
   "name": "python",
   "nbconvert_exporter": "python",
   "pygments_lexer": "ipython3",
   "version": "3.9.13"
  }
 },
 "nbformat": 4,
 "nbformat_minor": 5
}
