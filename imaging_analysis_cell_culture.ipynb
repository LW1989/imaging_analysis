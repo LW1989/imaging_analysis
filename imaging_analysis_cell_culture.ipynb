{
 "cells": [
  {
   "cell_type": "markdown",
   "id": "65f4f1e6",
   "metadata": {},
   "source": [
    "# Notebook for analysing imaging data (in vitro and ex vivo) \n",
    "\n",
    "This use this jupyter notebook for the analysis of your in vitro imaging data (best suited for cell culture data). Before you run this notebook there are a few steps you need to do first:\n",
    "\n",
    "1. Load your raw imaging tiffs into imagej/fiji\n",
    "2. Draw the ROIs **IMPORTANT**: Last ROI must be a background ROI \n",
    "3. Calculate mean grey value with imagej/fiji \n",
    "4. Export your results as csv file\n",
    "\n"
   ]
  },
  {
   "cell_type": "code",
   "execution_count": null,
   "id": "b58c5125",
   "metadata": {},
   "outputs": [],
   "source": [
    "%matplotlib inline\n",
    "import pandas as pd\n",
    "from matplotlib import pyplot as plt\n",
    "import numpy as np\n",
    "\n",
    "\n",
    "# Pre processing function:\n",
    "def pre_processing(df):\n",
    "    background=df[df.columns[-1]].tolist()  #select background column and make list\n",
    "    df=df.drop(df.columns[-1], axis=1) #delete last column (background)\n",
    "    df=df.drop(df.columns[0], axis=1) #delte first column (frame)\n",
    "    df_background_sub=df.sub(background, axis=0) #subtract background from every other column\n",
    "    \n",
    "    return df_background_sub\n",
    "\n",
    "def dff_calc(df_input,f_base_value=0,dff_median=False):\n",
    "    \n",
    "    for column_name in df_input:\n",
    "        column=df_input[column_name]\n",
    "        column=column.astype('float')\n",
    "        if dff_median:\n",
    "            median_value=column.median()\n",
    "            dff_series=column.apply((lambda x: (x - median_value)/median_value))\n",
    "            df_input[column_name]=dff_series\n",
    "        else:\n",
    "            dff_series=column.apply((lambda x: (x - column.iloc[f_base_value])/column.iloc[f_base_value])) \n",
    "            df_input[column_name]=dff_series\n",
    "        \n",
    "    return df_input\n",
    "\n",
    "\n"
   ]
  },
  {
   "cell_type": "markdown",
   "id": "e5981796",
   "metadata": {},
   "source": [
    "## Defining some parameters for your analysis\n",
    "\n",
    "In the next cell define some parameter:\n",
    "\n",
    "* Do you want to perform preprocessing (i.e. background substraction) of your imagej/fiji data? \n",
    " * default: `pre_processing_bool=True` <br>\n",
    "<br>\n",
    "* Do you want to exclude specific ROIs?         \n",
    " * default: `exclude_rois=True` <br>\n",
    "<br>    \n",
    "* Do you want to convert frames to seconds? If so input framerate in fps.\n",
    " * default: `frames_to_seconds=True` \n",
    " * default: `fps_rate=1` <br>\n",
    "<br>\n",
    "\n",
    "**Next**: Input the path to your results csv file from imagej/fiji input the variable: path_to_data"
   ]
  },
  {
   "cell_type": "code",
   "execution_count": null,
   "id": "3f68bcd3",
   "metadata": {},
   "outputs": [],
   "source": [
    "pre_processing_bool=True\n",
    "frames_to_seconds=True\n",
    "fps_rate=5 \n",
    "\n",
    "#path_to_data='D:/Lutz imaging/Gq-Pathway Sensor/20210513/Dish3/Analysis/Results_20210513_dish3'\n",
    "path_to_data='D:/Lutz imaging/23082021/Slice1/Results'\n",
    "\n",
    "file_extension='.csv'\n",
    "\n",
    "if pre_processing_bool==True:\n",
    "    df=pre_processing(pd.read_csv(path_to_data + file_extension))\n",
    "else:\n",
    "    df=pd.read_csv(path_to_data + file_extension)\n",
    "\n",
    "if frames_to_seconds:\n",
    "    df.index=df.index/fps_rate\n",
    "    x_label='Time (s)'\n",
    "else:\n",
    "    x_label='Frames'\n"
   ]
  },
  {
   "cell_type": "markdown",
   "id": "63cacdad",
   "metadata": {},
   "source": [
    "## Calculation of $\\Delta$f/f\n",
    "\n",
    "Now you can calculate $\\Delta$f/f but first define the parameters for that: \n",
    "* If you want to calculate $\\Delta$f/f with the first frame as your f0, you do not need to change anything.\n",
    "* If you want to calculate $\\Delta$f/f with the median fluorescence as your f0, set the parameter `dff_median=True` <br> (i.e. `dff_frame=dff_calc(df_copy, dff_median=True)`)\n",
    "\n",
    "It also plots each of your ROIs in a subplot and also all ROIs combined\n",
    "    \n",
    "\n"
   ]
  },
  {
   "cell_type": "code",
   "execution_count": null,
   "id": "6605bdae",
   "metadata": {},
   "outputs": [],
   "source": [
    "df_copy=df.copy()\n",
    "dff_frame=dff_calc(df_copy, dff_median=True)     "
   ]
  },
  {
   "cell_type": "code",
   "execution_count": null,
   "id": "235208c5",
   "metadata": {},
   "outputs": [],
   "source": [
    "#plotting individual ROIs in individual subplots\n",
    "col_num=len(dff_frame.columns)\n",
    "number_of_subplots=list(range(0,len(dff_frame.columns)))\n",
    "axes=dff_frame.plot(subplots=True, layout=(7, 5), figsize=(24, 24), sharex=True,sharey=True, legend=None, title=number_of_subplots)\n",
    "\n",
    "for c in axes:\n",
    "   for ax in c:\n",
    "      ax.axhline(y=0, color='k', ls='dashed')\n",
    "\n",
    "plt.show()\n",
    "\n",
    "#plotting individual ROIs in ONE plot (overlayed)\n",
    "dff_frame.plot(legend=None)\n",
    "ax = plt.gca()\n",
    "ax.axhline(y=0, color='k', ls='dashed')\n",
    "plt.xlabel(x_label)\n",
    "plt.ylabel('\\u0394 F/F')\n",
    "ax.spines['right'].set_visible(False)\n",
    "ax.spines['top'].set_visible(False)\n",
    "plt.show()"
   ]
  },
  {
   "cell_type": "markdown",
   "id": "cec90118",
   "metadata": {},
   "source": [
    "## Excluding ROIs (optional)\n",
    "\n",
    "If you want exclude some of the ROIs from above set `exclude_rois=True` (default: `exclude_rois=False`) and put the numbers of the ROIs you want to exclude into the list and seperate every ROI by a \",\" (`list_of_excluded_rois`) below. **IMPORTANT**: Start counting from 0!\n",
    "\n",
    "It also saves the a new csv file into the current path with the addtion of *_cleaned*"
   ]
  },
  {
   "cell_type": "code",
   "execution_count": null,
   "id": "cb8c7c2a",
   "metadata": {},
   "outputs": [],
   "source": [
    "exclude_rois=False\n",
    "list_of_excluded_rois=[1,4]\n",
    "\n",
    "if exclude_rois:\n",
    "    cleaned_df=dff_frame.copy()\n",
    "    exclude_columns=cleaned_df.iloc[:, list_of_excluded_rois].columns\n",
    "    cleaned_df=cleaned_df.drop(columns=exclude_columns)    \n",
    "    cleaned_df.to_csv((path_to_data + '_cleaned' + file_extension), index=False)  \n",
    "    \n",
    "    df_mean=cleaned_df.mean(axis=1)\n",
    "    df_std=cleaned_df.std(axis=1)\n",
    "    df_sem=cleaned_df.sem(axis=1)\n",
    "    \n",
    "else:\n",
    "    cleaned_df=dff_frame.copy()\n",
    "    cleaned_df.to_csv((path_to_data + '_cleaned' + file_extension), index=False)\n",
    "    \n",
    "    df_mean=dff_frame.mean(axis=1)\n",
    "    df_std=dff_frame.std(axis=1)\n",
    "    df_sem=dff_frame.sem(axis=1)"
   ]
  },
  {
   "cell_type": "markdown",
   "id": "eabc253b",
   "metadata": {},
   "source": [
    "Now plot the ROIs again to make sure you deleted the correct ROIs"
   ]
  },
  {
   "cell_type": "code",
   "execution_count": null,
   "id": "a5724104",
   "metadata": {},
   "outputs": [],
   "source": [
    "#plotting individual ROIs in individual subplots\n",
    "if exclude_rois:\n",
    "    \n",
    "    col_num=len(cleaned_df.columns)\n",
    "    number_of_subplots=list(range(0,len(cleaned_df.columns)))\n",
    "    axes=cleaned_df.plot(subplots=True, layout=(7, 5), figsize=(24, 24), sharex=True,sharey=True, legend=None, title=number_of_subplots)\n",
    "\n",
    "    for c in axes:\n",
    "       for ax in c:\n",
    "          ax.axhline(y=0, color='k', ls='dashed')\n",
    "\n",
    "    plt.show()\n",
    "\n",
    "    #plotting individual ROIs in ONE plot (overlayed)\n",
    "    cleaned_df.plot(legend=None)\n",
    "    ax = plt.gca()\n",
    "    ax.axhline(y=0, color='k', ls='dashed')\n",
    "    plt.xlabel(x_label)\n",
    "    plt.ylabel('\\u0394 F/F')\n",
    "    ax.spines['right'].set_visible(False)\n",
    "    ax.spines['top'].set_visible(False)\n",
    "    plt.show()"
   ]
  },
  {
   "cell_type": "markdown",
   "id": "0f13b7a6",
   "metadata": {},
   "source": [
    "## Plotting of the mean time courses\n",
    "\n",
    "Now you can start plotting the mean of all your ROIs. But first define if you want to save the images (default: `save_images=False`)"
   ]
  },
  {
   "cell_type": "code",
   "execution_count": null,
   "id": "c1138d11",
   "metadata": {},
   "outputs": [],
   "source": [
    "save_images=False\n",
    "\n",
    "#plotting mean + SD\n",
    "\n",
    "plt.plot(df_mean, color='black', linewidth=0.75)\n",
    "plt.fill_between(df_mean.index, df_mean-df_std, df_mean+df_std, alpha=0.5)\n",
    "\n",
    "ax = plt.gca()\n",
    "ax.axhline(y=0, color='k', ls='dashed')\n",
    "ax.spines['right'].set_visible(False)\n",
    "ax.spines['top'].set_visible(False)\n",
    "plt.xlabel(x_label)\n",
    "plt.ylabel('\\u0394 F/F')\n",
    "plt.title('Mean + SD')\n",
    "if save_images:\n",
    "    plt.savefig((path_to_data[:-4] + '_mean_SD' + '.svg'), format = 'svg', dpi=300) # uncommand this if you want to save it as vector graphic\n",
    "plt.show()\n"
   ]
  },
  {
   "cell_type": "code",
   "execution_count": null,
   "id": "b95e162c",
   "metadata": {},
   "outputs": [],
   "source": [
    "#plotting mean + SEM\n",
    "\n",
    "plt.plot(df_mean, color='black', linewidth=0.75)\n",
    "plt.fill_between(df_mean.index, df_mean-df_sem, df_mean+df_sem, alpha=0.5)\n",
    "\n",
    "ax = plt.gca()\n",
    "ax.axhline(y=0, color='k', ls='dashed')\n",
    "ax.spines['right'].set_visible(False)\n",
    "ax.spines['top'].set_visible(False)\n",
    "plt.xlabel(x_label)\n",
    "plt.ylabel('\\u0394 F/F')\n",
    "plt.title('Mean + SEM')\n",
    "if save_images:\n",
    "    plt.savefig((path_to_data[:-4] + '_mean_SEM' + '.svg'), format = 'svg', dpi=300) # uncommand this if you want to save it as vector graphic\n",
    "plt.show()"
   ]
  },
  {
   "cell_type": "markdown",
   "id": "2619b36f",
   "metadata": {},
   "source": [
    "## Analysis of all ROIs from multiple dishes/trials\n",
    "\n",
    "Now you can start analyzing all ROIs from several dishes or trials together. Just put the path to your new csv files (you calculated and exported them in the previous single dish analysis) into the list `trial_list` in the cell below. Example:\n",
    "\n",
    "`trial_list=[(pd.read_csv('D:/Lutz imaging/Gq-Pathway Sensor/20210519/Dish1/Analysis/Results_20210519_dish1_new.csv')),\n",
    "            (pd.read_csv('D:/Lutz imaging/Gq-Pathway Sensor/20210519/Dish3/Analysis/Results_20210519_dish3_new.csv')),\n",
    "            (pd.read_csv('D:/Lutz imaging/Gq-Pathway Sensor/20210519/Dish4/Analysis/Results_20210519_dish4_new.csv')),\n",
    "            (pd.read_csv('D:/Lutz imaging/Gq-Pathway Sensor/20210519/Dish5/Analysis/Results_20210519_dish5_new.csv')),\n",
    "            (pd.read_csv('D:/Lutz imaging/Gq-Pathway Sensor/20210521/Dish1/Analysis/Results_20210521_dish1_new.csv')),\n",
    "            (pd.read_csv('D:/Lutz imaging/Gq-Pathway Sensor/20210521/Dish3/Analysis/Results_20210521_dish3_new.csv'))\n",
    "            ]`\n",
    "            \n",
    "**IMPORTANT**: The single dish analysis puts an *_cleaned* at the end of your path, so don't forget to include this here.\n",
    "\n",
    "\n"
   ]
  },
  {
   "cell_type": "markdown",
   "id": "6b1589f6",
   "metadata": {},
   "source": [
    "**IMPORTANT**: If you just want to run multi dish analysis, run the next cell. Otherwise you can ignore it. "
   ]
  },
  {
   "cell_type": "code",
   "execution_count": null,
   "id": "2026efc6",
   "metadata": {},
   "outputs": [],
   "source": [
    "%matplotlib inline\n",
    "import pandas as pd\n",
    "from matplotlib import pyplot as plt\n",
    "import numpy as np"
   ]
  },
  {
   "cell_type": "code",
   "execution_count": null,
   "id": "a69a6812",
   "metadata": {},
   "outputs": [],
   "source": [
    "trial_list=[(pd.read_csv('D:/Lutz imaging/23082021/Slice1/Results_cleaned.csv')) \n",
    "            ]\n",
    "\n",
    "col_num=0\n",
    "for it_count, number in enumerate(trial_list):\n",
    "    col_num=col_num + len(number.columns)\n",
    "    number.columns=list(number.columns + '_Trial_' + str(it_count+1))\n",
    "    \n",
    "combined_df=pd.concat(trial_list, axis=1) #combine all trials in one dataframe\n",
    "\n",
    "combined_df.reset_index(drop=True, inplace=True)\n",
    "\n",
    "#combined_df\n"
   ]
  },
  {
   "cell_type": "markdown",
   "id": "1bd88cf0",
   "metadata": {},
   "source": [
    "**Important**: Because you reseted the DataFrame Index in the cell before, you have to chose again if you want to convert frames into seconds. Also define the `fps_rate`  again"
   ]
  },
  {
   "cell_type": "code",
   "execution_count": null,
   "id": "0b9a6a1b",
   "metadata": {},
   "outputs": [],
   "source": [
    "frames_to_seconds=True\n",
    "fps_rate=5\n",
    "\n",
    "if frames_to_seconds:\n",
    "    combined_df.index=combined_df.index/fps_rate\n",
    "    x_label='Time (s)'\n",
    "else:\n",
    "    x_label='Frames'"
   ]
  },
  {
   "cell_type": "markdown",
   "id": "ec7eeee0",
   "metadata": {},
   "source": [
    "## Optional calculation of $\\Delta$f/f\n",
    "\n",
    "In the single dish/single trial analysis, you saved the data **AFTER** you calculated $\\Delta$f/f. Therefore, if you run the notebook completely there is no need to calculated $\\Delta$f/f. \n",
    "\n",
    "However, there is an option to do it at this point. Just set `run_dff_calc_again=True` (default:`run_dff_calc_again=False`)\n",
    "\n",
    "Now you can calculate $\\Delta$f/f but first define the parameters for that: \n",
    "* If you want to calculate $\\Delta$f/f with the first frame as your f0, you do not need to change anything.\n",
    "* If you want to calculate $\\Delta$f/f with the median fluorescence as your f0, set the parameter `dff_median=True` <br> (i.e. `dff_frame=dff_calc(df_copy, dff_median=True)`)\n",
    "    "
   ]
  },
  {
   "cell_type": "code",
   "execution_count": null,
   "id": "c0db7069",
   "metadata": {},
   "outputs": [],
   "source": [
    "run_dff_calc_again=False\n",
    "\n",
    "if run_dff_calc_again:\n",
    "    combined_df_copy=combined_df.copy()\n",
    "    dff_combined_df=dff_calc(combined_df_copy, dff_median=True)\n",
    "else:\n",
    "    dff_combined_df=combined_df.copy()\n",
    "    combined_df_mean=dff_combined_df.mean(axis=1)\n",
    "    combined_df_std=dff_combined_df.std(axis=1)\n",
    "    combined_df_sem=dff_combined_df.sem(axis=1)"
   ]
  },
  {
   "cell_type": "markdown",
   "id": "72b88fe2",
   "metadata": {},
   "source": [
    "## Ploting of the combined data\n",
    "\n",
    "Now, that you analysed and combined all data from all trials/dishes into one DataFrame you can start plotting. \n",
    "\n",
    "\n",
    "You have some options here:\n",
    "\n",
    "* Here you have the option to also plot your wash in times (if you have any). Just set `plot_wash_in_1=True` and/or `plot_wash_in_2=True`. Also, if you want to do that, make sure define the timepoints (start and end points).<br> **IMPORTANT**: If you chose the option to convert frames to seconds you also have to set the timepoints as seconds and not as frames.<br>\n",
    "<br>\n",
    "* You can also decide to save the plot. Just set `save_images=True` (default: `save_images=False`). Also define the path and the the file name (withou file extension). Example: `path_to_save_date='E:/Lutz imaging/Gq-Pathway Sensor/Plots/KD_mut/Results_20210521_dish3_new'`\n",
    "\n",
    "\n",
    "\n",
    "**Mean +/- SD**\n"
   ]
  },
  {
   "cell_type": "code",
   "execution_count": null,
   "id": "e0f94987",
   "metadata": {},
   "outputs": [],
   "source": [
    "save_images=False\n",
    "path_to_save_date='E:/Lutz imaging/Gq-Pathway Sensor/Plots/KD_mut/Results_20210521_dish3_new'\n",
    "\n",
    "plot_wash_in_1=False\n",
    "\n",
    "start_wash_in_1=600 #add start frame of first wash in\n",
    "end_wash_in_1=700 #add end frame of first wash in\n",
    "\n",
    "if frames_to_seconds:\n",
    "    start_wash_in_1=start_wash_in_1/fps_rate\n",
    "    end_wash_in_1=end_wash_in_1/fps_rate\n",
    "\n",
    "\n",
    "plot_wash_in_2=False\n",
    "\n",
    "start_wash_in_2=1000 #add start frame of second wash in\n",
    "end_wash_in_2=1100 #add end frame of second wash in\n",
    "\n",
    "if frames_to_seconds:\n",
    "    start_wash_in_2=start_wash_in_2/fps_rate\n",
    "    end_wash_in_2=end_wash_in_2/fps_rate\n"
   ]
  },
  {
   "cell_type": "code",
   "execution_count": null,
   "id": "2f452192",
   "metadata": {},
   "outputs": [],
   "source": [
    "text_for_fig= 'n=' + str(col_num) + ' cells'\n",
    "\n",
    "#plot mean + SD\n",
    "plt.figure(figsize=(10,5))\n",
    "if plot_wash_in_1:\n",
    "    plt.axvspan(start_wash_in_1, end_wash_in_1, color='grey', alpha=0.3, lw=0)\n",
    "if plot_wash_in_2:\n",
    "    plt.axvspan(start_wash_in_2, end_wash_in_2, color='grey', alpha=0.3, lw=0)\n",
    "plt.plot(combined_df_mean, c='black')\n",
    "plt.fill_between(combined_df_mean.index, combined_df_mean-combined_df_std, combined_df_mean+combined_df_std, alpha=0.5)\n",
    "\n",
    "ax = plt.gca()\n",
    "ax.axhline(y=0, color='k', ls='dashed')\n",
    "ax.spines['right'].set_visible(False)\n",
    "ax.spines['top'].set_visible(False)\n",
    "plt.xlabel(x_label)\n",
    "plt.ylabel('\\u0394 F/F')\n",
    "plt.title('Mean + SD')\n",
    "\n",
    "plt.text(0.9, 0.9,text_for_fig,\n",
    "      horizontalalignment='center',\n",
    "      verticalalignment='center',\n",
    "      transform = plt.gca().transAxes)\n",
    "if save_images:\n",
    "    plt.savefig((path_to_save_date + 'all_trials_mean_sd.svg'), format='svg', dpi=300)\n",
    "plt.show()\n"
   ]
  },
  {
   "cell_type": "markdown",
   "id": "223f3397",
   "metadata": {},
   "source": [
    "Here you can plot **Mean +/- SEM**"
   ]
  },
  {
   "cell_type": "code",
   "execution_count": null,
   "id": "f15f3e34",
   "metadata": {},
   "outputs": [],
   "source": [
    "plt.figure(figsize=(10,5))\n",
    "\n",
    "if plot_wash_in_1:\n",
    "    plt.axvspan(start_wash_in_1, end_wash_in_1, color='grey', alpha=0.3, lw=0)\n",
    "if plot_wash_in_2:\n",
    "    plt.axvspan(start_wash_in_2, end_wash_in_2, color='grey', alpha=0.3, lw=0)\n",
    "    \n",
    "plt.plot(combined_df_mean, c='black')\n",
    "plt.fill_between(combined_df_mean.index, combined_df_mean-combined_df_sem, combined_df_mean+combined_df_sem, alpha=0.5)\n",
    "\n",
    "ax = plt.gca()\n",
    "ax.axhline(y=0, color='k', ls='dashed')\n",
    "\n",
    "ax.spines['right'].set_visible(False)\n",
    "ax.spines['top'].set_visible(False)\n",
    "\n",
    "plt.xlabel(x_label)\n",
    "plt.ylabel('\\u0394 F/F')\n",
    "plt.title('Mean + SEM')\n",
    "plt.text(0.9, 0.9,text_for_fig,\n",
    "      horizontalalignment='center',\n",
    "      verticalalignment='center',\n",
    "      transform = plt.gca().transAxes)\n",
    "\n",
    "if save_images:\n",
    "    plt.savefig((path_to_save_date + 'all_trials_mean_sem.svg'), format='svg', dpi=300)\n",
    "plt.show()"
   ]
  },
  {
   "cell_type": "markdown",
   "id": "81bee11d",
   "metadata": {},
   "source": [
    "Here you can plot the **heatmap**"
   ]
  },
  {
   "cell_type": "code",
   "execution_count": null,
   "id": "19d1753d",
   "metadata": {},
   "outputs": [],
   "source": [
    "\n",
    "if frames_to_seconds:\n",
    "    mesh_df= combined_df.copy()\n",
    "    mesh_df.reset_index(drop=True, inplace=True)\n",
    "    new_index=list(mesh_df.index)\n",
    "    new_index.append(len(list(mesh_df.index)))\n",
    "    new_index=pd.Series(new_index)/fps_rate\n",
    "    new_columns=pd.Series(list(range(0, len(mesh_df.columns)+1)))\n",
    "        \n",
    "    fig, ax0 = plt.subplots(figsize=(10,8))\n",
    "    im = ax0.pcolormesh(new_index,new_columns, (mesh_df.transpose()))\n",
    "    fig.colorbar(im, ax=ax0, label='\\u0394 F/F')\n",
    "    ax0.set_xlabel('Time (s)')\n",
    "    ax0.set_ylabel('ROI Number')   \n",
    "    if save_images:\n",
    "        plt.savefig((path_to_save_date + '_heatmap.svg'), format='svg', dpi=300)\n",
    "    plt.show()\n",
    "\n",
    "        \n",
    "else:\n",
    "    fig, ax0 = plt.subplots(figsize=(10,8))\n",
    "    im = ax0.pcolormesh((combined_df.transpose()))\n",
    "    fig.colorbar(im, ax=ax0, label='\\u0394 F/F')\n",
    "\n",
    "    ax0.set_xlabel('Frame')\n",
    "    ax0.set_ylabel('ROI Number')\n",
    "\n",
    "    ax0.axvline(x=start_wash_in_1, color='k', ls='dashed', alpha=0.75)\n",
    "    ax0.axvline(x=start_wash_in_2, color='k', ls='dashed', alpha=0.75)\n",
    "    if save_images:\n",
    "        plt.savefig((path_to_save_date + '_heatmap.svg'), format='svg', dpi=300)   \n",
    "    plt.show()"
   ]
  }
 ],
 "metadata": {
  "kernelspec": {
   "display_name": "Python 3",
   "language": "python",
   "name": "python3"
  },
  "language_info": {
   "codemirror_mode": {
    "name": "ipython",
    "version": 3
   },
   "file_extension": ".py",
   "mimetype": "text/x-python",
   "name": "python",
   "nbconvert_exporter": "python",
   "pygments_lexer": "ipython3",
   "version": "3.8.8"
  }
 },
 "nbformat": 4,
 "nbformat_minor": 5
}
